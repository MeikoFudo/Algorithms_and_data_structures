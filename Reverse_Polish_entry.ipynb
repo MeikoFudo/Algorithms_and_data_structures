{
  "nbformat": 4,
  "nbformat_minor": 0,
  "metadata": {
    "colab": {
      "provenance": [],
      "authorship_tag": "ABX9TyN6Qjqil711/Sl645XHdneL",
      "include_colab_link": true
    },
    "kernelspec": {
      "name": "python3",
      "display_name": "Python 3"
    },
    "language_info": {
      "name": "python"
    }
  },
  "cells": [
    {
      "cell_type": "markdown",
      "metadata": {
        "id": "view-in-github",
        "colab_type": "text"
      },
      "source": [
        "<a href=\"https://colab.research.google.com/github/MeikoFudo/Algorithms_and_data_structures/blob/main/Reverse_Polish_entry.ipynb\" target=\"_parent\"><img src=\"https://colab.research.google.com/assets/colab-badge.svg\" alt=\"Open In Colab\"/></a>"
      ]
    },
    {
      "cell_type": "markdown",
      "source": [
        "Реализовать преобразование арифметического выражения в ОПЗ и вычисление выражения,\n",
        "записанного в ОПЗ. На вход программе подаётся правильное арифметическое выражение,\n",
        "состоящее из цифр скобок и арифметических операций. Программа должна вывести на\n",
        "экран соответствующее выражение, записанное в ОПЗ, а затем результат, вычисленные на\n",
        "её основе."
      ],
      "metadata": {
        "id": "LYJmr44Q83YT"
      }
    },
    {
      "cell_type": "code",
      "source": [
        "def infix_to_postfix(expression):\n",
        "    stack = []\n",
        "    output = []\n",
        "    operators = {'+': 1, '-': 1, '*': 2, '/': 2}\n",
        "    for token in expression:\n",
        "        if token.isdigit():\n",
        "            output.append(token)\n",
        "        elif token == '(':\n",
        "            stack.append(token)\n",
        "        elif token == ')':\n",
        "            while stack and stack[-1] != '(':\n",
        "                output.append(stack.pop())\n",
        "            stack.pop()\n",
        "        elif token in operators:\n",
        "            while stack and stack[-1] != '(' and operators[token] <= operators.get(stack[-1], 0):\n",
        "                output.append(stack.pop())\n",
        "            stack.append(token)\n",
        "    while stack:\n",
        "        output.append(stack.pop())\n",
        "    return output\n",
        "\n",
        "\n",
        "def calculate(expression):\n",
        "    stack = []\n",
        "    for token in expression:\n",
        "        if token.isdigit():\n",
        "            stack.append(float(token))\n",
        "        elif token == '+':\n",
        "            b = stack.pop()\n",
        "            a = stack.pop()\n",
        "            stack.append(a + b)\n",
        "        elif token == '-':\n",
        "            b = stack.pop()\n",
        "            a = stack.pop()\n",
        "            stack.append(a - b)\n",
        "        elif token == '*':\n",
        "            stack.append(stack.pop() * stack.pop())\n",
        "        elif token == '/':\n",
        "            b = stack.pop()\n",
        "            a = stack.pop()\n",
        "            stack.append(a / b)\n",
        "    return stack[0]\n",
        "\n",
        "\n",
        "expression = input('Введите арифметическое выражение: ')\n",
        "opz_expression = infix_to_postfix(expression)\n",
        "print('ОПЗ: ', ' '.join(opz_expression))\n",
        "result = calculate(opz_expression)\n",
        "print('Результат: ', result)\n"
      ],
      "metadata": {
        "colab": {
          "base_uri": "https://localhost:8080/"
        },
        "id": "vtC7639XErem",
        "outputId": "0c617155-4e50-430d-90bb-ce5b8ea27903"
      },
      "execution_count": 19,
      "outputs": [
        {
          "output_type": "stream",
          "name": "stdout",
          "text": [
            "Введите арифметическое выражение: (2+3)*4-6/(1+2)\n",
            "ОПЗ:  2 3 + 4 * 6 1 2 + / -\n",
            "Результат:  18.0\n"
          ]
        }
      ]
    },
    {
      "cell_type": "code",
      "source": [
        "expression1 = '2+3*4-6'\n",
        "opz_expression1 = infix_to_postfix(expression1)\n",
        "print('ОПЗ: ', ' '.join(opz_expression1))\n",
        "result1 = calculate(opz_expression1)\n",
        "print('Результат: ', result1)"
      ],
      "metadata": {
        "colab": {
          "base_uri": "https://localhost:8080/"
        },
        "id": "5wh0UPBIFPzx",
        "outputId": "de7baebe-ee41-44e9-c26b-4b10b146e1d7"
      },
      "execution_count": 20,
      "outputs": [
        {
          "output_type": "stream",
          "name": "stdout",
          "text": [
            "ОПЗ:  2 3 4 * + 6 -\n",
            "Результат:  8.0\n"
          ]
        }
      ]
    }
  ]
}