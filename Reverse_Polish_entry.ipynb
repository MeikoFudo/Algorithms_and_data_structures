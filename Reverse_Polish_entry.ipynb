{
  "nbformat": 4,
  "nbformat_minor": 0,
  "metadata": {
    "colab": {
      "provenance": [],
      "authorship_tag": "ABX9TyM7+giK4jOcg0dBZrKa+Omx",
      "include_colab_link": true
    },
    "kernelspec": {
      "name": "python3",
      "display_name": "Python 3"
    },
    "language_info": {
      "name": "python"
    }
  },
  "cells": [
    {
      "cell_type": "markdown",
      "metadata": {
        "id": "view-in-github",
        "colab_type": "text"
      },
      "source": [
        "<a href=\"https://colab.research.google.com/github/MeikoFudo/Algorithms_and_data_structures/blob/main/Reverse_Polish_entry.ipynb\" target=\"_parent\"><img src=\"https://colab.research.google.com/assets/colab-badge.svg\" alt=\"Open In Colab\"/></a>"
      ]
    },
    {
      "cell_type": "markdown",
      "source": [
        "Реализовать преобразование арифметического выражения в ОПЗ и вычисление выражения,\n",
        "записанного в ОПЗ. На вход программе подаётся правильное арифметическое выражение,\n",
        "состоящее из цифр скобок и арифметических операций. Программа должна вывести на\n",
        "экран соответствующее выражение, записанное в ОПЗ, а затем результат, вычисленные на\n",
        "её основе."
      ],
      "metadata": {
        "id": "LYJmr44Q83YT"
      }
    },
    {
      "cell_type": "code",
      "source": [
        "def opz(expression):\n",
        "    priority = {'(': 1, '+': 2, '-': 2, '*': 3, '/': 3}\n",
        "    stack = []\n",
        "    output = []\n",
        "    for token in expression:\n",
        "        if token.isdigit():\n",
        "            output.append(token)\n",
        "        elif token in priority:\n",
        "            while (stack and stack[-1] != '(' and\n",
        "                   priority[token] <= priority[stack[-1]]):\n",
        "                output.append(stack.pop())\n",
        "            stack.append(token)\n",
        "        elif token == '(':\n",
        "            stack.append(token)\n",
        "        elif token == ')':\n",
        "            while stack[-1] != '(':\n",
        "                output.append(stack.pop())\n",
        "            stack.pop()\n",
        "    while stack:\n",
        "        output.append(stack.pop())\n",
        "    return output\n",
        "\n",
        "\n",
        "def calculate(opz_expression):\n",
        "    stack = []\n",
        "    for token in opz_expression:\n",
        "        if token.isdigit():\n",
        "            stack.append(int(token))\n",
        "        elif token == '+':\n",
        "            stack.append(stack.pop() + stack.pop())\n",
        "        elif token == '-':\n",
        "            b = stack.pop()\n",
        "            a = stack.pop()\n",
        "            stack.append(a - b)\n",
        "        elif token == '*':\n",
        "            stack.append(stack.pop() * stack.pop())\n",
        "        elif token == '/':\n",
        "            b = stack.pop()\n",
        "            a = stack.pop()\n",
        "            stack.append(a / b)\n",
        "    return stack[0]"
      ],
      "metadata": {
        "id": "eEvmW-pu-XI1"
      },
      "execution_count": 11,
      "outputs": []
    },
    {
      "cell_type": "code",
      "source": [
        "expression = input('Введите арифметическое выражение: ')\n",
        "opz_expression = opz(expression)\n",
        "print('ОПЗ: ', ' '.join(opz_expression))\n",
        "result = calculate(opz_expression)\n",
        "print('Результат: ', result)\n"
      ],
      "metadata": {
        "colab": {
          "base_uri": "https://localhost:8080/"
        },
        "id": "BMM3b7yeAayo",
        "outputId": "5aab282d-b724-43a7-8a86-613c3580cc22"
      },
      "execution_count": 12,
      "outputs": [
        {
          "output_type": "stream",
          "name": "stdout",
          "text": [
            "Введите арифметическое выражение: (2+3)*4/2-1\n",
            "ОПЗ:  2 3 + 4 * 2 / 1 -\n",
            "Результат:  9.0\n"
          ]
        }
      ]
    }
  ]
}