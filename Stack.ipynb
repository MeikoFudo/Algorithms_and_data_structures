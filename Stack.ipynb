{
  "nbformat": 4,
  "nbformat_minor": 0,
  "metadata": {
    "colab": {
      "provenance": [],
      "authorship_tag": "ABX9TyOb8NN1bll7eHIuewWoe2tu",
      "include_colab_link": true
    },
    "kernelspec": {
      "name": "python3",
      "display_name": "Python 3"
    },
    "language_info": {
      "name": "python"
    }
  },
  "cells": [
    {
      "cell_type": "markdown",
      "metadata": {
        "id": "view-in-github",
        "colab_type": "text"
      },
      "source": [
        "<a href=\"https://colab.research.google.com/github/MeikoFudo/Algorithms_and_data_structures/blob/main/Stack.ipynb\" target=\"_parent\"><img src=\"https://colab.research.google.com/assets/colab-badge.svg\" alt=\"Open In Colab\"/></a>"
      ]
    },
    {
      "cell_type": "markdown",
      "source": [
        "1. Дан стек целых чисел. Удалить из него все отрицательные элементы."
      ],
      "metadata": {
        "id": "rZ8pjuQFD9i3"
      }
    },
    {
      "cell_type": "code",
      "source": [
        "def remove_negative(stack):\n",
        "  \n",
        "    # Создаем временный стек\n",
        "    temp_stack = []\n",
        "\n",
        "    # Перебираем элементы входного стека\n",
        "    while len(stack) > 0:\n",
        "        # Извлекаем элемент из стека\n",
        "        element = stack.pop()\n",
        "\n",
        "        # Если элемент положительный или равен нулю,\n",
        "        # добавляем его во временный стек\n",
        "        if element >= 0:\n",
        "            temp_stack.append(element)\n",
        "\n",
        "    # Очищаем входной стек\n",
        "    stack.clear()\n",
        "\n",
        "    # Перекладываем элементы из временного стека обратно во входной стек\n",
        "    while len(temp_stack) > 0:\n",
        "        stack.append(temp_stack.pop())\n",
        "\n",
        "    # Возвращаем стек без отрицательных элементов\n",
        "    return stack"
      ],
      "metadata": {
        "id": "RhKmBJsbD9xA"
      },
      "execution_count": 1,
      "outputs": []
    },
    {
      "cell_type": "code",
      "source": [
        "stack = [1, -2, 3, -4, 5, -6, 7, -8, 9, -10]\n",
        "new_stack = remove_negative(stack)\n",
        "\n",
        "new_stack"
      ],
      "metadata": {
        "colab": {
          "base_uri": "https://localhost:8080/"
        },
        "id": "p1UzZlx9EwtZ",
        "outputId": "e65b707f-33c5-440a-9d3a-187dde50b419"
      },
      "execution_count": 2,
      "outputs": [
        {
          "output_type": "execute_result",
          "data": {
            "text/plain": [
              "[1, 3, 5, 7, 9]"
            ]
          },
          "metadata": {},
          "execution_count": 2
        }
      ]
    },
    {
      "cell_type": "markdown",
      "source": [
        "2. Дан стек целых чисел. Записать в дно стека сумму всех его элементов."
      ],
      "metadata": {
        "id": "4YzP3CHTECCi"
      }
    },
    {
      "cell_type": "code",
      "source": [
        "def sum_to_bottom(stack):\n",
        "\n",
        "    # Вычисляем сумму всех элементов стека\n",
        "    total_sum = sum(stack)\n",
        "\n",
        "    # Добавляем сумму в дно стека\n",
        "    stack.insert(0, total_sum)"
      ],
      "metadata": {
        "id": "TUW74LeWESsr"
      },
      "execution_count": 6,
      "outputs": []
    },
    {
      "cell_type": "code",
      "source": [
        "my_stack = [1, 2, 3, 4, 5]\n",
        "sum_to_bottom(my_stack)\n",
        "\n",
        "my_stack"
      ],
      "metadata": {
        "colab": {
          "base_uri": "https://localhost:8080/"
        },
        "id": "hcaWR8GjFuL3",
        "outputId": "150013be-c5c8-4a6b-ed5d-1c7f11e297c7"
      },
      "execution_count": 8,
      "outputs": [
        {
          "output_type": "execute_result",
          "data": {
            "text/plain": [
              "[15, 1, 2, 3, 4, 5]"
            ]
          },
          "metadata": {},
          "execution_count": 8
        }
      ]
    },
    {
      "cell_type": "markdown",
      "source": [
        "3. Дан стек из целых чисел. Поменять в данном стеке содержимое вершины и дна.\n"
      ],
      "metadata": {
        "id": "c6OXF6xvEDr3"
      }
    },
    {
      "cell_type": "code",
      "source": [
        "def swap_top_and_bottom(stack):\n",
        "\n",
        "    # Извлекаем элемент из вершины стека\n",
        "    top_element = stack.pop()\n",
        "\n",
        "    # Извлекаем элемент из дна стека\n",
        "    bottom_element = stack.pop(0)\n",
        "\n",
        "    # Добавляем элемент из вершины стека в дно стека\n",
        "    stack.insert(0, top_element)\n",
        "\n",
        "    # Добавляем элемент из дна стека в вершину стека\n",
        "    stack.append(bottom_element)"
      ],
      "metadata": {
        "id": "cNEJuJ9RETYt"
      },
      "execution_count": 9,
      "outputs": []
    },
    {
      "cell_type": "code",
      "source": [
        "my_stack = [1, 2, 3, 4, 5]\n",
        "swap_top_and_bottom(my_stack)\n",
        "\n",
        "my_stack "
      ],
      "metadata": {
        "colab": {
          "base_uri": "https://localhost:8080/"
        },
        "id": "OIa8bwYHGd8h",
        "outputId": "6a1c8e2b-d9a4-4c32-ee45-45930d829d44"
      },
      "execution_count": 10,
      "outputs": [
        {
          "output_type": "execute_result",
          "data": {
            "text/plain": [
              "[5, 2, 3, 4, 1]"
            ]
          },
          "metadata": {},
          "execution_count": 10
        }
      ]
    },
    {
      "cell_type": "markdown",
      "source": [
        "4. В стеке расположены целые числа. Записать содержимое стека в обратном порядке\n",
        "в тот же стек"
      ],
      "metadata": {
        "id": "_kxLGkZWEPbx"
      }
    },
    {
      "cell_type": "code",
      "source": [
        "def reverse_stack(stack):\n",
        "\n",
        "    # Создаем два временных стека\n",
        "    temp_stack1 = []\n",
        "    temp_stack2 = []\n",
        "\n",
        "    # Перекладываем элементы из начального стека в первый временный стек\n",
        "    while len(stack) > 0:\n",
        "        element = stack.pop()\n",
        "        temp_stack1.append(element)\n",
        "\n",
        "    # Перекладываем элементы из первого временного стека во второй временный стек\n",
        "    while len(temp_stack1) > 0:\n",
        "        element = temp_stack1.pop()\n",
        "        temp_stack2.append(element)\n",
        "\n",
        "    # Перекладываем элементы из второго временного стека обратно в начальный стек\n",
        "    while len(temp_stack2) > 0:\n",
        "        element = temp_stack2.pop()\n",
        "        stack.append(element)"
      ],
      "metadata": {
        "id": "fcMQwJBzET9z"
      },
      "execution_count": 14,
      "outputs": []
    },
    {
      "cell_type": "code",
      "source": [
        "my_stack = [1, 2, 3, 4, 5]\n",
        "reverse_stack(my_stack)\n",
        "\n",
        "my_stack"
      ],
      "metadata": {
        "colab": {
          "base_uri": "https://localhost:8080/"
        },
        "id": "KO4dkkuyHNW-",
        "outputId": "26dbe6dd-ae46-4efb-e1ac-372718eada02"
      },
      "execution_count": 15,
      "outputs": [
        {
          "output_type": "execute_result",
          "data": {
            "text/plain": [
              "[5, 4, 3, 2, 1]"
            ]
          },
          "metadata": {},
          "execution_count": 15
        }
      ]
    },
    {
      "cell_type": "markdown",
      "source": [
        "5. В стеке расположены целые числа. Поменять в стеке первый элемент со вторым,\n",
        "третий с четвёртым, и так далее.\n"
      ],
      "metadata": {
        "id": "fxZaNTh2EFMi"
      }
    },
    {
      "cell_type": "code",
      "source": [
        "def swap_pairs(stack):\n",
        "\n",
        "    for i in range(0, len(stack) - 1, 2):\n",
        "        # Меняем местами элементы\n",
        "        stack[i], stack[i+1] = stack[i+1], stack[i]"
      ],
      "metadata": {
        "id": "8UHPuYWbEUt0"
      },
      "execution_count": 16,
      "outputs": []
    },
    {
      "cell_type": "code",
      "source": [
        "my_stack = [1, 2, 3, 4, 5, 6]\n",
        "swap_pairs(my_stack)\n",
        "\n",
        "my_stack"
      ],
      "metadata": {
        "colab": {
          "base_uri": "https://localhost:8080/"
        },
        "id": "m3L3-SP6J3KQ",
        "outputId": "912134ef-1304-4a80-872d-d5e6e4e7e191"
      },
      "execution_count": 17,
      "outputs": [
        {
          "output_type": "execute_result",
          "data": {
            "text/plain": [
              "[2, 1, 4, 3, 6, 5]"
            ]
          },
          "metadata": {},
          "execution_count": 17
        }
      ]
    },
    {
      "cell_type": "markdown",
      "source": [
        "6. В стеке расположены целые числа. Записать в этот же стек сначала элементы с\n",
        "чётными номерами, затем с нечётными."
      ],
      "metadata": {
        "id": "GRArJj7wEKlf"
      }
    },
    {
      "cell_type": "code",
      "source": [
        "def reorder_stack(stack):\n",
        "    even_stack = []  # создаем стек для четных элементов\n",
        "    odd_stack = []  # создаем стек для нечетных элементов\n",
        "\n",
        "    # извлекаем каждый элемент из исходного стека\n",
        "    while stack:\n",
        "        item = stack.pop()\n",
        "        # проверяем, является ли номер элемента четным или нечетным\n",
        "        if len(stack) % 2 == 0:\n",
        "            even_stack.append(item)\n",
        "        else:\n",
        "            odd_stack.append(item)\n",
        "\n",
        "    # помещаем элементы обратно в исходный стек в порядке четных и нечетных номеров\n",
        "    while odd_stack:\n",
        "        stack.append(odd_stack.pop())\n",
        "\n",
        "    while even_stack:\n",
        "        stack.append(even_stack.pop())\n",
        "\n",
        "    return stack"
      ],
      "metadata": {
        "id": "vatVJ1_sEVMq"
      },
      "execution_count": 5,
      "outputs": []
    },
    {
      "cell_type": "code",
      "source": [
        "my_stack = [1, 2, 3, 4, 5, 6]\n",
        "reorder_stack(my_stack)\n",
        "\n",
        "my_stack"
      ],
      "metadata": {
        "colab": {
          "base_uri": "https://localhost:8080/"
        },
        "id": "gtYulbhp5ebA",
        "outputId": "cfe4c6d8-8c5a-4ad1-f429-2b03b292efd6"
      },
      "execution_count": 6,
      "outputs": [
        {
          "output_type": "execute_result",
          "data": {
            "text/plain": [
              "[2, 4, 6, 1, 3, 5]"
            ]
          },
          "metadata": {},
          "execution_count": 6
        }
      ]
    },
    {
      "cell_type": "markdown",
      "source": [
        "7. Стек заполнен целыми числами. Записать в стек сначала четные элементы, затем\n",
        "нечётные.\n"
      ],
      "metadata": {
        "id": "eV38H3M4EM1b"
      }
    },
    {
      "cell_type": "code",
      "source": [
        "def reorder_stack1(stack):\n",
        "    even_stack = []  # создаем стек для четных элементов\n",
        "    odd_stack = []  # создаем стек для нечетных элементов\n",
        "\n",
        "    # извлекаем каждый элемент из исходного стека\n",
        "    while stack:\n",
        "        item = stack.pop()\n",
        "        # проверяем, является ли элемент четным или нечетным\n",
        "        if item % 2 == 0:\n",
        "            even_stack.append(item)\n",
        "        else:\n",
        "            odd_stack.append(item)\n",
        "\n",
        "    # помещаем элементы обратно в исходный стек в порядке четных и нечетных чисел\n",
        "    while odd_stack:\n",
        "        stack.append(odd_stack.pop())\n",
        "\n",
        "    while even_stack:\n",
        "        stack.append(even_stack.pop())\n",
        "\n",
        "    return stack"
      ],
      "metadata": {
        "id": "hmpaXs12EVxr"
      },
      "execution_count": 8,
      "outputs": []
    },
    {
      "cell_type": "code",
      "source": [
        "my_stack = [1, 2, 3, 4, 5, 6]\n",
        "reorder_stack1(my_stack)\n",
        "\n",
        "my_stack"
      ],
      "metadata": {
        "colab": {
          "base_uri": "https://localhost:8080/"
        },
        "id": "PgeMJEzF54DW",
        "outputId": "5ea57393-1730-45ae-b38b-fbec050b4dda"
      },
      "execution_count": 9,
      "outputs": [
        {
          "output_type": "execute_result",
          "data": {
            "text/plain": [
              "[1, 3, 5, 2, 4, 6]"
            ]
          },
          "metadata": {},
          "execution_count": 9
        }
      ]
    },
    {
      "cell_type": "markdown",
      "source": [
        "8. Дан стек, заполненный целыми числами. Найти максимальный и минимальный\n",
        "элементы. Переместить максимальный элемент в дно стека, минимальный – в\n",
        "вершину."
      ],
      "metadata": {
        "id": "xmxq7CbtEOGI"
      }
    },
    {
      "cell_type": "code",
      "source": [
        "def max_min_stack(stack):\n",
        "    max_item = float(-100000000)  # задаем начальное значение максимального элемента\n",
        "    min_item = float(100000000)  # задаем начальное значение минимального элемента\n",
        "\n",
        "    # находим максимальный и минимальный элементы в стеке\n",
        "    for item in stack:\n",
        "        if item > max_item:\n",
        "            max_item = item\n",
        "        if item < min_item:\n",
        "            min_item = item\n",
        "\n",
        "    # удаляем максимальный элемент из стека и добавляем его в конец\n",
        "    stack.remove(max_item)\n",
        "    stack.append(max_item)\n",
        "\n",
        "    # удаляем минимальный элемент из стека и добавляем его в начало\n",
        "    stack.remove(min_item)\n",
        "    stack.insert(0, min_item)\n",
        "\n",
        "    return stack"
      ],
      "metadata": {
        "id": "g0CNzo4_EWTL"
      },
      "execution_count": 11,
      "outputs": []
    },
    {
      "cell_type": "code",
      "source": [
        "my_stack = [1, 2, 3, 7, 4, 5, 6]\n",
        "max_min_stack(my_stack)\n",
        "\n",
        "my_stack"
      ],
      "metadata": {
        "colab": {
          "base_uri": "https://localhost:8080/"
        },
        "id": "Ft64_JVU6TYG",
        "outputId": "8ee71945-6374-437d-c262-ae9185ed4368"
      },
      "execution_count": 13,
      "outputs": [
        {
          "output_type": "execute_result",
          "data": {
            "text/plain": [
              "[1, 2, 3, 4, 5, 6, 7]"
            ]
          },
          "metadata": {},
          "execution_count": 13
        }
      ]
    }
  ]
}