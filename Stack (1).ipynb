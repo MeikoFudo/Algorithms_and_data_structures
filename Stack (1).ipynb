{
  "nbformat": 4,
  "nbformat_minor": 0,
  "metadata": {
    "colab": {
      "provenance": []
    },
    "kernelspec": {
      "name": "python3",
      "display_name": "Python 3"
    },
    "language_info": {
      "name": "python"
    }
  },
  "cells": [
    {
      "cell_type": "markdown",
      "metadata": {
        "id": "view-in-github"
      },
      "source": [
        "<a href=\"https://colab.research.google.com/github/MeikoFudo/Algorithms_and_data_structures/blob/main/Stack.ipynb\" target=\"_parent\"><img src=\"https://colab.research.google.com/assets/colab-badge.svg\" alt=\"Open In Colab\"/></a>"
      ]
    },
    {
      "cell_type": "markdown",
      "source": [
        "1. Дан стек целых чисел. Удалить из него все отрицательные элементы."
      ],
      "metadata": {
        "id": "rZ8pjuQFD9i3"
      }
    },
    {
      "cell_type": "code",
      "source": [
        "def remove_negative(stack):\n",
        "  \n",
        "    temp_stack = []\n",
        "\n",
        "    while len(stack) > 0:\n",
        "        element = stack.pop()\n",
        "        if element >= 0:\n",
        "            temp_stack.append(element)\n",
        "    stack.clear()\n",
        "\n",
        "    while len(temp_stack) > 0:\n",
        "        stack.append(temp_stack.pop())\n",
        "        \n",
        "    return stack"
      ],
      "metadata": {
        "id": "RhKmBJsbD9xA"
      },
      "execution_count": 1,
      "outputs": []
    },
    {
      "cell_type": "code",
      "source": [
        "stack = [1, -2, 3, -4, 5, -6, 7, -8, 9, -10]\n",
        "new_stack = remove_negative(stack)\n",
        "\n",
        "new_stack"
      ],
      "metadata": {
        "colab": {
          "base_uri": "https://localhost:8080/"
        },
        "id": "p1UzZlx9EwtZ",
        "outputId": "7e91977a-d7ed-4183-97f0-b24288cf4d08"
      },
      "execution_count": 2,
      "outputs": [
        {
          "output_type": "execute_result",
          "data": {
            "text/plain": [
              "[1, 3, 5, 7, 9]"
            ]
          },
          "metadata": {},
          "execution_count": 2
        }
      ]
    },
    {
      "cell_type": "markdown",
      "source": [
        "2. Дан стек целых чисел. Записать в дно стека сумму всех его элементов."
      ],
      "metadata": {
        "id": "4YzP3CHTECCi"
      }
    },
    {
      "cell_type": "code",
      "source": [
        "def sum_to_bottom(stack):\n",
        "\n",
        "    total_sum = sum(stack)\n",
        "    stack.insert(0, total_sum)"
      ],
      "metadata": {
        "id": "TUW74LeWESsr"
      },
      "execution_count": 3,
      "outputs": []
    },
    {
      "cell_type": "code",
      "source": [
        "my_stack = [1, 2, 3, 4, 5]\n",
        "sum_to_bottom(my_stack)\n",
        "\n",
        "my_stack"
      ],
      "metadata": {
        "colab": {
          "base_uri": "https://localhost:8080/"
        },
        "id": "hcaWR8GjFuL3",
        "outputId": "c37f5fa4-464f-4e96-cb6c-177659798773"
      },
      "execution_count": 4,
      "outputs": [
        {
          "output_type": "execute_result",
          "data": {
            "text/plain": [
              "[15, 1, 2, 3, 4, 5]"
            ]
          },
          "metadata": {},
          "execution_count": 4
        }
      ]
    },
    {
      "cell_type": "markdown",
      "source": [
        "3. Дан стек из целых чисел. Поменять в данном стеке содержимое вершины и дна.\n"
      ],
      "metadata": {
        "id": "c6OXF6xvEDr3"
      }
    },
    {
      "cell_type": "code",
      "source": [
        "def swap_top_and_bottom(stack):\n",
        "\n",
        "    top_element = stack.pop()\n",
        "    bottom_element = stack.pop(0)\n",
        "    stack.insert(0, top_element)\n",
        "    stack.append(bottom_element)"
      ],
      "metadata": {
        "id": "cNEJuJ9RETYt"
      },
      "execution_count": 5,
      "outputs": []
    },
    {
      "cell_type": "code",
      "source": [
        "my_stack = [1, 2, 3, 4, 5]\n",
        "swap_top_and_bottom(my_stack)\n",
        "\n",
        "my_stack "
      ],
      "metadata": {
        "colab": {
          "base_uri": "https://localhost:8080/"
        },
        "id": "OIa8bwYHGd8h",
        "outputId": "a611477a-04b7-41b0-c477-e39e3d15cc58"
      },
      "execution_count": 6,
      "outputs": [
        {
          "output_type": "execute_result",
          "data": {
            "text/plain": [
              "[5, 2, 3, 4, 1]"
            ]
          },
          "metadata": {},
          "execution_count": 6
        }
      ]
    },
    {
      "cell_type": "markdown",
      "source": [
        "4. В стеке расположены целые числа. Записать содержимое стека в обратном порядке\n",
        "в тот же стек"
      ],
      "metadata": {
        "id": "_kxLGkZWEPbx"
      }
    },
    {
      "cell_type": "code",
      "source": [
        "def reverse_stack(stack):\n",
        "\n",
        "    temp_stack1 = []\n",
        "    temp_stack2 = []\n",
        "\n",
        "    while len(stack) > 0:\n",
        "        element = stack.pop()\n",
        "        temp_stack1.append(element)\n",
        "\n",
        "    while len(temp_stack1) > 0:\n",
        "        element = temp_stack1.pop()\n",
        "        temp_stack2.append(element)\n",
        "\n",
        "    while len(temp_stack2) > 0:\n",
        "        element = temp_stack2.pop()\n",
        "        stack.append(element)"
      ],
      "metadata": {
        "id": "fcMQwJBzET9z"
      },
      "execution_count": 7,
      "outputs": []
    },
    {
      "cell_type": "code",
      "source": [
        "my_stack = [1, 2, 3, 4, 5]\n",
        "reverse_stack(my_stack)\n",
        "\n",
        "my_stack"
      ],
      "metadata": {
        "colab": {
          "base_uri": "https://localhost:8080/"
        },
        "id": "KO4dkkuyHNW-",
        "outputId": "9d614aab-6ac1-471f-973a-a50f242bf8e0"
      },
      "execution_count": 8,
      "outputs": [
        {
          "output_type": "execute_result",
          "data": {
            "text/plain": [
              "[5, 4, 3, 2, 1]"
            ]
          },
          "metadata": {},
          "execution_count": 8
        }
      ]
    },
    {
      "cell_type": "markdown",
      "source": [
        "5. В стеке расположены целые числа. Поменять в стеке первый элемент со вторым,\n",
        "третий с четвёртым, и так далее.\n"
      ],
      "metadata": {
        "id": "fxZaNTh2EFMi"
      }
    },
    {
      "cell_type": "code",
      "source": [
        "def swap_pairs(stack):\n",
        "\n",
        "    for i in range(0, len(stack) - 1, 2):\n",
        "        stack[i], stack[i+1] = stack[i+1], stack[i]"
      ],
      "metadata": {
        "id": "8UHPuYWbEUt0"
      },
      "execution_count": 9,
      "outputs": []
    },
    {
      "cell_type": "code",
      "source": [
        "my_stack = [1, 2, 3, 4, 5, 6]\n",
        "swap_pairs(my_stack)\n",
        "\n",
        "my_stack"
      ],
      "metadata": {
        "colab": {
          "base_uri": "https://localhost:8080/"
        },
        "id": "m3L3-SP6J3KQ",
        "outputId": "97cc0539-bb02-440a-9691-ba787039e98e"
      },
      "execution_count": 10,
      "outputs": [
        {
          "output_type": "execute_result",
          "data": {
            "text/plain": [
              "[2, 1, 4, 3, 6, 5]"
            ]
          },
          "metadata": {},
          "execution_count": 10
        }
      ]
    },
    {
      "cell_type": "markdown",
      "source": [
        "6. В стеке расположены целые числа. Записать в этот же стек сначала элементы с\n",
        "чётными номерами, затем с нечётными."
      ],
      "metadata": {
        "id": "GRArJj7wEKlf"
      }
    },
    {
      "cell_type": "code",
      "source": [
        "def reorder_stack(stack):\n",
        "    even_stack = []  \n",
        "    odd_stack = []  \n",
        "\n",
        "    while stack:\n",
        "        item = stack.pop()\n",
        "        if len(stack) % 2 == 0:\n",
        "            even_stack.append(item)\n",
        "        else:\n",
        "            odd_stack.append(item)\n",
        "\n",
        "    while odd_stack:\n",
        "        stack.append(odd_stack.pop())\n",
        "\n",
        "    while even_stack:\n",
        "        stack.append(even_stack.pop())\n",
        "\n",
        "    return stack"
      ],
      "metadata": {
        "id": "vatVJ1_sEVMq"
      },
      "execution_count": 11,
      "outputs": []
    },
    {
      "cell_type": "code",
      "source": [
        "my_stack = [1, 2, 3, 4, 5, 6]\n",
        "reorder_stack(my_stack)\n",
        "\n",
        "my_stack"
      ],
      "metadata": {
        "colab": {
          "base_uri": "https://localhost:8080/"
        },
        "id": "gtYulbhp5ebA",
        "outputId": "5ef54089-0418-42ce-ec08-90e6fc72b688"
      },
      "execution_count": 12,
      "outputs": [
        {
          "output_type": "execute_result",
          "data": {
            "text/plain": [
              "[2, 4, 6, 1, 3, 5]"
            ]
          },
          "metadata": {},
          "execution_count": 12
        }
      ]
    },
    {
      "cell_type": "markdown",
      "source": [
        "7. Стек заполнен целыми числами. Записать в стек сначала четные элементы, затем\n",
        "нечётные.\n"
      ],
      "metadata": {
        "id": "eV38H3M4EM1b"
      }
    },
    {
      "cell_type": "code",
      "source": [
        "def reorder_stack1(stack):\n",
        "    even_stack = []  \n",
        "    odd_stack = [] \n",
        "\n",
        "    while stack:\n",
        "        item = stack.pop()\n",
        "        if item % 2 == 0:\n",
        "            even_stack.append(item)\n",
        "        else:\n",
        "            odd_stack.append(item)\n",
        "\n",
        "    while odd_stack:\n",
        "        stack.append(odd_stack.pop())\n",
        "\n",
        "    while even_stack:\n",
        "        stack.append(even_stack.pop())\n",
        "\n",
        "    return stack"
      ],
      "metadata": {
        "id": "hmpaXs12EVxr"
      },
      "execution_count": 13,
      "outputs": []
    },
    {
      "cell_type": "code",
      "source": [
        "my_stack = [1, 2, 3, 4, 5, 6]\n",
        "reorder_stack1(my_stack)\n",
        "\n",
        "my_stack"
      ],
      "metadata": {
        "colab": {
          "base_uri": "https://localhost:8080/"
        },
        "id": "PgeMJEzF54DW",
        "outputId": "f410bd43-d9be-4319-b52b-1ac15a270ea1"
      },
      "execution_count": 14,
      "outputs": [
        {
          "output_type": "execute_result",
          "data": {
            "text/plain": [
              "[1, 3, 5, 2, 4, 6]"
            ]
          },
          "metadata": {},
          "execution_count": 14
        }
      ]
    },
    {
      "cell_type": "markdown",
      "source": [
        "8. Дан стек, заполненный целыми числами. Найти максимальный и минимальный\n",
        "элементы. Переместить максимальный элемент в дно стека, минимальный – в\n",
        "вершину."
      ],
      "metadata": {
        "id": "xmxq7CbtEOGI"
      }
    },
    {
      "cell_type": "code",
      "source": [
        "def max_min_stack(stack):\n",
        "    max_item = float(-100000000)  \n",
        "    min_item = float(100000000)  \n",
        "\n",
        "    for item in stack:\n",
        "        if item > max_item:\n",
        "            max_item = item\n",
        "        if item < min_item:\n",
        "            min_item = item\n",
        "\n",
        "    stack.remove(max_item)\n",
        "    stack.append(max_item)\n",
        "\n",
        "    stack.remove(min_item)\n",
        "    stack.insert(0, min_item)\n",
        "\n",
        "    return stack"
      ],
      "metadata": {
        "id": "g0CNzo4_EWTL"
      },
      "execution_count": 15,
      "outputs": []
    },
    {
      "cell_type": "code",
      "source": [
        "my_stack = [1, 2, 3, 7, 4, 5, 6]\n",
        "max_min_stack(my_stack)\n",
        "\n",
        "my_stack"
      ],
      "metadata": {
        "colab": {
          "base_uri": "https://localhost:8080/"
        },
        "id": "Ft64_JVU6TYG",
        "outputId": "363e03ae-aa54-4f80-8ab3-0a4b49da95ed"
      },
      "execution_count": 16,
      "outputs": [
        {
          "output_type": "execute_result",
          "data": {
            "text/plain": [
              "[1, 2, 3, 4, 5, 6, 7]"
            ]
          },
          "metadata": {},
          "execution_count": 16
        }
      ]
    }
  ]
}